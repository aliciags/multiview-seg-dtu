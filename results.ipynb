{
 "cells": [
  {
   "cell_type": "markdown",
   "metadata": {},
   "source": [
    "## Notebook to reproduce all the numeric results in the paper"
   ]
  },
  {
   "cell_type": "code",
   "execution_count": 1,
   "metadata": {},
   "outputs": [],
   "source": [
    "import os\n",
    "import numpy as np\n",
    "import matplotlib.pyplot as plt\n",
    "import time\n",
    "import torch\n",
    "import torch.nn as nn\n",
    "import torch.nn.functional as F\n",
    "import torch.optim as optim\n",
    "import torchvision\n",
    "import torchvision.transforms as transforms\n",
    "import random\n",
    "from pathlib import Path\n",
    "from dataloader import get_dataloader, walk_through_dir\n",
    "from models import SimpleSegmentationModel, SegmentationModel, pretrained_UNet\n",
    "from sklearn.metrics import precision_score, recall_score, f1_score\n",
    "import argparse"
   ]
  },
  {
   "cell_type": "code",
   "execution_count": 2,
   "metadata": {},
   "outputs": [],
   "source": [
    "def evaluate_model(model, test_dataloader, criterion, device):\n",
    "    model.eval()  # Set the model to evaluation mode\n",
    "    total_loss = 0\n",
    "    all_preds = []  # List to store all predictions\n",
    "    all_labels = []  # List to store all ground truth labels\n",
    "    \n",
    "    with torch.no_grad():  # Disable gradient computation\n",
    "        for images, masks in test_dataloader:\n",
    "            images = images.to(device)\n",
    "            masks = masks.to(device)\n",
    "\n",
    "            # Forward pass\n",
    "            outputs = model(images)\n",
    "            loss = criterion(outputs, masks)\n",
    "            total_loss += loss.item()\n",
    "\n",
    "            # Convert outputs to binary predictions (threshold at 0.5 for binary classification)\n",
    "            binary_outputs = (outputs > 0.5).float()\n",
    "\n",
    "            # Flatten the outputs and masks for evaluation\n",
    "            binary_outputs_np = binary_outputs.cpu().numpy().flatten()\n",
    "            masks_np = masks.cpu().numpy().flatten()\n",
    "\n",
    "            # Collect predictions and true labels for metrics calculation\n",
    "            all_preds.extend(binary_outputs_np)\n",
    "            all_labels.extend(masks_np)\n",
    "\n",
    "    # Calculate average loss\n",
    "    avg_loss = total_loss / len(test_dataloader)\n",
    "    \n",
    "    # Ensure that labels and predictions are both binary (0 or 1)\n",
    "    all_preds = [int(x) for x in all_preds]  # Convert predictions to integer binary\n",
    "    all_labels = [int(x) for x in all_labels]  # Convert labels to integer binary\n",
    "\n",
    "    # Compute Precision, Recall, and F1 score\n",
    "    precision = precision_score(all_labels, all_preds)\n",
    "    recall = recall_score(all_labels, all_preds)\n",
    "    f1 = f1_score(all_labels, all_preds)\n",
    "\n",
    "    # Compute Dice Score\n",
    "    intersection = np.sum(np.array(all_preds) * np.array(all_labels))\n",
    "    dice_score = (2.0 * intersection) / (np.sum(all_preds) + np.sum(all_labels) + 1e-8)\n",
    "\n",
    "    # Compute IoU (Intersection over Union)\n",
    "    union = np.sum((np.array(all_preds) + np.array(all_labels)) > 0)\n",
    "    iou = intersection / (union + 1e-8)\n",
    "\n",
    "    # Print results\n",
    "    print(f\"Average Loss on Test Set: {avg_loss:.4f}\")\n",
    "    print(f\"Precision: {precision:.4f}\")\n",
    "    print(f\"Recall: {recall:.4f}\")\n",
    "    print(f\"F1 Score: {f1:.4f}\")\n",
    "    print(f\"Dice Score: {dice_score:.4f}\")\n",
    "    print(f\"IoU: {iou:.4f}\")"
   ]
  },
  {
   "cell_type": "code",
   "execution_count": 3,
   "metadata": {},
   "outputs": [],
   "source": [
    "data_path = \"/zhome/70/5/14854/nobackup/deeplearningf24/forcebiology/data/\"\n",
    "image_dirs = [data_path + 'brightfield/Alexa488_Fibroblasts_well1_50locations',\n",
    "                data_path + 'brightfield/Alexa488_Fibroblasts_well2_200locations',\n",
    "                data_path + 'brightfield/Alexa488_Fibroblasts_well3_200locations',\n",
    "                data_path + 'brightfield/Alexa488_Fibroblasts_well4_225locations',\n",
    "                data_path + 'brightfield/Alexa488_Fibroblasts_well5_225locations',\n",
    "                data_path + 'brightfield/Alexa488_Fibroblasts_well6_135locations',\n",
    "                data_path + 'brightfield/Alexa488_Fibroblasts_well7_135locations']\n",
    "mask_dir = data_path + 'masks'\n",
    "\n",
    "def set_seed(seed=111):\n",
    "    torch.manual_seed(seed)\n",
    "    if torch.cuda.is_available():\n",
    "        torch.cuda.manual_seed(seed)\n",
    "        torch.cuda.manual_seed_all(seed)  # For multi-GPU\n",
    "    random.seed(seed)\n",
    "    np.random.seed(seed)\n",
    "\n",
    "set_seed()\n",
    "\n",
    "data_transform = transforms.Compose([\n",
    "    transforms.Resize((128, 128)),\n",
    "    transforms.ToTensor()\n",
    "])\n",
    "mask_transform = data_transform"
   ]
  },
  {
   "cell_type": "code",
   "execution_count": 4,
   "metadata": {},
   "outputs": [],
   "source": [
    "def run_model(channels, pth_model, model_name):\n",
    "    # Get the dataloaders with optional channel selection\n",
    "    train_dataloader, val_dataloader, test_dataloader = get_dataloader(\n",
    "        image_dirs, \n",
    "        mask_dir, \n",
    "        data_transform, \n",
    "        mask_transform, \n",
    "        display_sample=False, \n",
    "        train_percentage=1.0, \n",
    "        channel_indices=channels\n",
    "    )\n",
    "\n",
    "    # Initialize the device\n",
    "    # device = torch.device(\"cuda\" if torch.cuda.is_available() else \"cpu\")\n",
    "    device = \"cpu\"\n",
    "    criterion = nn.BCELoss()\n",
    "    current_directory = os.getcwd()\n",
    "    model_save_path = os.path.join(current_directory, pth_model)\n",
    "\n",
    "    # Load the model\n",
    "    if model_name == \"Simple\":\n",
    "        model = SimpleSegmentationModel().to(device)\n",
    "    elif model_name == \"UNet\":\n",
    "        model = SegmentationModel(channels=len(channels)).to(device)\n",
    "    elif model_name == \"Pretrained\":\n",
    "        model = pretrained_UNet().to(device)\n",
    "    \n",
    "    model.load_state_dict(torch.load(model_save_path, map_location=torch.device('cpu'), weights_only=True))\n",
    "    print(f\"Model {pth_model} loaded successfully.\")\n",
    "\n",
    "    return model, test_dataloader, criterion, device\n"
   ]
  },
  {
   "cell_type": "markdown",
   "metadata": {},
   "source": [
    "# Run evaluation for different models"
   ]
  },
  {
   "cell_type": "markdown",
   "metadata": {},
   "source": [
    "Inital UNet model"
   ]
  },
  {
   "cell_type": "code",
   "execution_count": 6,
   "metadata": {},
   "outputs": [
    {
     "name": "stdout",
     "output_type": "stream",
     "text": [
      "Number of images in the trainset: 889\n",
      "Number of images in the valset: 223\n",
      "Number of images in the testset: 50\n",
      "Model models/segmentation_model_UNet_train100%_channels0_1_2_3_4_5_6_7_8_9_10.pth loaded successfully.\n",
      "Average Loss on Test Set: 0.7551\n",
      "Precision: 0.2806\n",
      "Recall: 0.8834\n",
      "F1 Score: 0.4259\n",
      "Dice Score: 0.4259\n",
      "IoU: 0.2706\n"
     ]
    }
   ],
   "source": [
    "channels = [0, 1, 2, 3, 4, 5, 6, 7, 8, 9, 10]\n",
    "pth_model = 'models/segmentation_model_UNet_train100%_channels0_1_2_3_4_5_6_7_8_9_10.pth'\n",
    "model_name = 'UNet'\n",
    "\n",
    "model, test_dataloader, criterion, device = run_model(channels, pth_model, model_name)\n",
    "evaluate_model(model, test_dataloader, criterion, device)"
   ]
  },
  {
   "cell_type": "code",
   "execution_count": null,
   "metadata": {},
   "outputs": [
    {
     "name": "stdout",
     "output_type": "stream",
     "text": [
      "Number of images in the trainset: 889\n",
      "Number of images in the valset: 223\n",
      "Number of images in the testset: 50\n"
     ]
    },
    {
     "name": "stderr",
     "output_type": "stream",
     "text": [
      "Downloading: \"https://download.pytorch.org/models/resnet34-333f7ec4.pth\" to /zhome/2b/8/212341/.cache/torch/hub/checkpoints/resnet34-333f7ec4.pth\n"
     ]
    }
   ],
   "source": [
    "channels = [0, 1, 2, 3, 4, 5, 6, 7, 8, 9, 10]\n",
    "pth_model = 'models/segmentation_model_Pretrained.pth'\n",
    "model_name = 'Pretrained'\n",
    "\n",
    "model, test_dataloader, criterion, device = run_model(channels, pth_model, model_name)\n",
    "criterion = nn.BCEWithLogitsLoss()\n",
    "evaluate_model(model, test_dataloader, criterion, device)"
   ]
  },
  {
   "cell_type": "markdown",
   "metadata": {},
   "source": [
    "## Based on train percentaje"
   ]
  },
  {
   "cell_type": "code",
   "execution_count": 8,
   "metadata": {},
   "outputs": [
    {
     "name": "stdout",
     "output_type": "stream",
     "text": [
      "Number of images in the trainset: 889\n",
      "Number of images in the valset: 223\n",
      "Number of images in the testset: 50\n",
      "Model models/segmentation_model_UNet_train20%_channels0_1_2_3_4_5_6_7_8_9_10.pth loaded successfully.\n",
      "Average Loss on Test Set: 0.4475\n",
      "Precision: 0.8730\n",
      "Recall: 0.3180\n",
      "F1 Score: 0.4662\n",
      "Dice Score: 0.4662\n",
      "IoU: 0.3039\n"
     ]
    }
   ],
   "source": [
    "channels = [0, 1, 2, 3, 4, 5, 6, 7, 8, 9, 10]\n",
    "pth_model = 'models/segmentation_model_UNet_train20%_channels0_1_2_3_4_5_6_7_8_9_10.pth'\n",
    "model_name = 'UNet'\n",
    "\n",
    "model, test_dataloader, criterion, device = run_model(channels, pth_model, model_name)\n",
    "evaluate_model(model, test_dataloader, criterion, device)"
   ]
  },
  {
   "cell_type": "code",
   "execution_count": null,
   "metadata": {},
   "outputs": [
    {
     "ename": "NameError",
     "evalue": "name 'run_model' is not defined",
     "output_type": "error",
     "traceback": [
      "\u001b[0;31m---------------------------------------------------------------------------\u001b[0m",
      "\u001b[0;31mNameError\u001b[0m                                 Traceback (most recent call last)",
      "Cell \u001b[0;32mIn[1], line 5\u001b[0m\n\u001b[1;32m      2\u001b[0m pth_model \u001b[38;5;241m=\u001b[39m \u001b[38;5;124m'\u001b[39m\u001b[38;5;124mmodels/segmentation_model_UNet_train40\u001b[39m\u001b[38;5;124m%\u001b[39m\u001b[38;5;124m_channels0_1_2_3_4_5_6_7_8_9_10.pth\u001b[39m\u001b[38;5;124m'\u001b[39m\n\u001b[1;32m      3\u001b[0m model_name \u001b[38;5;241m=\u001b[39m \u001b[38;5;124m'\u001b[39m\u001b[38;5;124mUNet\u001b[39m\u001b[38;5;124m'\u001b[39m\n\u001b[0;32m----> 5\u001b[0m model, test_dataloader, criterion, device \u001b[38;5;241m=\u001b[39m \u001b[43mrun_model\u001b[49m(channels, pth_model, model_name)\n\u001b[1;32m      6\u001b[0m evaluate_model(model, test_dataloader, criterion, device)\n",
      "\u001b[0;31mNameError\u001b[0m: name 'run_model' is not defined"
     ]
    }
   ],
   "source": [
    "channels = [0, 1, 2, 3, 4, 5, 6, 7, 8, 9, 10]\n",
    "pth_model = 'models/segmentation_model_UNet_train40%_channels0_1_2_3_4_5_6_7_8_9_10.pth'\n",
    "model_name = 'UNet'\n",
    "\n",
    "model, test_dataloader, criterion, device = run_model(channels, pth_model, model_name)\n",
    "evaluate_model(model, test_dataloader, criterion, device)"
   ]
  },
  {
   "cell_type": "code",
   "execution_count": 5,
   "metadata": {},
   "outputs": [
    {
     "name": "stdout",
     "output_type": "stream",
     "text": [
      "Number of images in the trainset: 889\n",
      "Number of images in the valset: 223\n",
      "Number of images in the testset: 50\n",
      "Model models/segmentation_model_UNet_train60%_channels0_1_2_3_4_5_6_7_8_9_10.pth loaded successfully.\n",
      "Average Loss on Test Set: 0.3568\n",
      "Precision: 0.9073\n",
      "Recall: 0.4138\n",
      "F1 Score: 0.5684\n",
      "Dice Score: 0.5684\n",
      "IoU: 0.3970\n"
     ]
    }
   ],
   "source": [
    "channels = [0, 1, 2, 3, 4, 5, 6, 7, 8, 9, 10]\n",
    "pth_model = 'models/segmentation_model_UNet_train60%_channels0_1_2_3_4_5_6_7_8_9_10.pth'\n",
    "model_name = 'UNet'\n",
    "\n",
    "model, test_dataloader, criterion, device = run_model(channels, pth_model, model_name)\n",
    "evaluate_model(model, test_dataloader, criterion, device)"
   ]
  },
  {
   "cell_type": "code",
   "execution_count": 6,
   "metadata": {},
   "outputs": [
    {
     "name": "stdout",
     "output_type": "stream",
     "text": [
      "Number of images in the trainset: 889\n",
      "Number of images in the valset: 223\n",
      "Number of images in the testset: 50\n",
      "Model models/segmentation_model_UNet_train80%_channels0_1_2_3_4_5_6_7_8_9_10.pth loaded successfully.\n",
      "Average Loss on Test Set: 0.6034\n",
      "Precision: 0.5244\n",
      "Recall: 0.7316\n",
      "F1 Score: 0.6110\n",
      "Dice Score: 0.6110\n",
      "IoU: 0.4398\n"
     ]
    }
   ],
   "source": [
    "channels = [0, 1, 2, 3, 4, 5, 6, 7, 8, 9, 10]\n",
    "pth_model = 'models/segmentation_model_UNet_train80%_channels0_1_2_3_4_5_6_7_8_9_10.pth'\n",
    "model_name = 'UNet'\n",
    "\n",
    "model, test_dataloader, criterion, device = run_model(channels, pth_model, model_name)\n",
    "evaluate_model(model, test_dataloader, criterion, device)"
   ]
  },
  {
   "cell_type": "markdown",
   "metadata": {},
   "source": [
    "## With augmentation and fft"
   ]
  },
  {
   "cell_type": "code",
   "execution_count": 8,
   "metadata": {},
   "outputs": [
    {
     "name": "stdout",
     "output_type": "stream",
     "text": [
      "Number of images in the trainset: 889\n",
      "Number of images in the valset: 223\n",
      "Number of images in the testset: 50\n",
      "Model models/segmentation_model_UNet_train100%_channels0_1_2_3_4_5_6_7_8_9_10_augmentation_fft.pth loaded successfully.\n",
      "Average Loss on Test Set: 0.3591\n",
      "Precision: 0.9843\n",
      "Recall: 0.0995\n",
      "F1 Score: 0.1807\n",
      "Dice Score: 0.1807\n",
      "IoU: 0.0993\n"
     ]
    }
   ],
   "source": [
    "channels = [0, 1, 2, 3, 4, 5, 6, 7, 8, 9, 10]\n",
    "pth_model = 'models/segmentation_model_UNet_train100%_channels0_1_2_3_4_5_6_7_8_9_10_augmentation_fft.pth'\n",
    "model_name = 'UNet'\n",
    "\n",
    "model, test_dataloader, criterion, device = run_model(channels, pth_model, model_name)\n",
    "evaluate_model(model, test_dataloader, criterion, device)\n"
   ]
  },
  {
   "cell_type": "markdown",
   "metadata": {},
   "source": [
    "## With different channels\n",
    "Channels based on GradCAM channel importance."
   ]
  },
  {
   "cell_type": "code",
   "execution_count": 9,
   "metadata": {},
   "outputs": [
    {
     "name": "stdout",
     "output_type": "stream",
     "text": [
      "Number of images in the trainset: 889\n",
      "Number of images in the valset: 223\n",
      "Number of images in the testset: 50\n",
      "Model models/segmentation_model_UNet_train100%_channels1.pth loaded successfully.\n",
      "Average Loss on Test Set: 0.3376\n",
      "Precision: 0.7518\n",
      "Recall: 0.5985\n",
      "F1 Score: 0.6665\n",
      "Dice Score: 0.6665\n",
      "IoU: 0.4998\n"
     ]
    }
   ],
   "source": [
    "channels = [1]\n",
    "pth_model = 'models/segmentation_model_UNet_train100%_channels1.pth'\n",
    "model_name = 'UNet'\n",
    "\n",
    "model, test_dataloader, criterion, device = run_model(channels, pth_model, model_name)\n",
    "evaluate_model(model, test_dataloader, criterion, device)"
   ]
  },
  {
   "cell_type": "code",
   "execution_count": 10,
   "metadata": {},
   "outputs": [
    {
     "name": "stdout",
     "output_type": "stream",
     "text": [
      "Number of images in the trainset: 889\n",
      "Number of images in the valset: 223\n",
      "Number of images in the testset: 50\n",
      "Model models/segmentation_model_UNet_train100%_channels1_7.pth loaded successfully.\n",
      "Average Loss on Test Set: 0.2780\n",
      "Precision: 0.8307\n",
      "Recall: 0.4821\n",
      "F1 Score: 0.6102\n",
      "Dice Score: 0.6102\n",
      "IoU: 0.4390\n"
     ]
    }
   ],
   "source": [
    "channels = [1, 7]\n",
    "pth_model = 'models/segmentation_model_UNet_train100%_channels1_7.pth'\n",
    "model_name = 'UNet'\n",
    "\n",
    "model, test_dataloader, criterion, device = run_model(channels, pth_model, model_name)\n",
    "evaluate_model(model, test_dataloader, criterion, device)"
   ]
  },
  {
   "cell_type": "code",
   "execution_count": 11,
   "metadata": {},
   "outputs": [
    {
     "name": "stdout",
     "output_type": "stream",
     "text": [
      "Number of images in the trainset: 889\n",
      "Number of images in the valset: 223\n",
      "Number of images in the testset: 50\n",
      "Model models/segmentation_model_UNet_train100%_channels1_7_2_4_3_9_6.pth loaded successfully.\n",
      "Average Loss on Test Set: 0.3865\n",
      "Precision: 0.8687\n",
      "Recall: 0.3934\n",
      "F1 Score: 0.5415\n",
      "Dice Score: 0.5415\n",
      "IoU: 0.3713\n"
     ]
    }
   ],
   "source": [
    "channels = [1, 7, 2, 4, 3, 9, 6]\n",
    "pth_model = 'models/segmentation_model_UNet_train100%_channels1_7_2_4_3_9_6.pth'\n",
    "model_name = 'UNet'\n",
    "\n",
    "model, test_dataloader, criterion, device = run_model(channels, pth_model, model_name)\n",
    "evaluate_model(model, test_dataloader, criterion, device)"
   ]
  },
  {
   "cell_type": "markdown",
   "metadata": {},
   "source": [
    "Channels chosen based on focal position."
   ]
  },
  {
   "cell_type": "code",
   "execution_count": 12,
   "metadata": {},
   "outputs": [
    {
     "name": "stdout",
     "output_type": "stream",
     "text": [
      "Number of images in the trainset: 889\n",
      "Number of images in the valset: 223\n",
      "Number of images in the testset: 50\n",
      "Model models/segmentation_model_UNet_train100%_channels6.pth loaded successfully.\n",
      "Average Loss on Test Set: 0.3760\n",
      "Precision: 0.8211\n",
      "Recall: 0.2561\n",
      "F1 Score: 0.3905\n",
      "Dice Score: 0.3905\n",
      "IoU: 0.2426\n"
     ]
    }
   ],
   "source": [
    "channels = [6]\n",
    "pth_model = 'models/segmentation_model_UNet_train100%_channels6.pth'\n",
    "model_name = 'UNet'\n",
    "\n",
    "model, test_dataloader, criterion, device = run_model(channels, pth_model, model_name)\n",
    "evaluate_model(model, test_dataloader, criterion, device)"
   ]
  },
  {
   "cell_type": "code",
   "execution_count": 13,
   "metadata": {},
   "outputs": [
    {
     "name": "stdout",
     "output_type": "stream",
     "text": [
      "Number of images in the trainset: 889\n",
      "Number of images in the valset: 223\n",
      "Number of images in the testset: 50\n",
      "Model models/segmentation_model_UNet_train100%_channels5_6_7.pth loaded successfully.\n",
      "Average Loss on Test Set: 0.4450\n",
      "Precision: 0.8419\n",
      "Recall: 0.0827\n",
      "F1 Score: 0.1507\n",
      "Dice Score: 0.1507\n",
      "IoU: 0.0815\n"
     ]
    }
   ],
   "source": [
    "channels = [5, 6, 7]\n",
    "pth_model = 'models/segmentation_model_UNet_train100%_channels5_6_7.pth'\n",
    "model_name = 'UNet'\n",
    "\n",
    "model, test_dataloader, criterion, device = run_model(channels, pth_model, model_name)\n",
    "evaluate_model(model, test_dataloader, criterion, device)"
   ]
  },
  {
   "cell_type": "code",
   "execution_count": 14,
   "metadata": {},
   "outputs": [
    {
     "name": "stdout",
     "output_type": "stream",
     "text": [
      "Number of images in the trainset: 889\n",
      "Number of images in the valset: 223\n",
      "Number of images in the testset: 50\n",
      "Model models/segmentation_model_UNet_train100%_channels4_5_6_7_8.pth loaded successfully.\n",
      "Average Loss on Test Set: 1.8912\n",
      "Precision: 0.1787\n",
      "Recall: 0.9442\n",
      "F1 Score: 0.3005\n",
      "Dice Score: 0.3005\n",
      "IoU: 0.1768\n"
     ]
    }
   ],
   "source": [
    "channels = [4, 5, 6, 7, 8]\n",
    "pth_model = 'models/segmentation_model_UNet_train100%_channels4_5_6_7_8.pth'\n",
    "model_name = 'UNet'\n",
    "\n",
    "model, test_dataloader, criterion, device = run_model(channels, pth_model, model_name)\n",
    "evaluate_model(model, test_dataloader, criterion, device)"
   ]
  },
  {
   "cell_type": "code",
   "execution_count": 15,
   "metadata": {},
   "outputs": [
    {
     "name": "stdout",
     "output_type": "stream",
     "text": [
      "Number of images in the trainset: 889\n",
      "Number of images in the valset: 223\n",
      "Number of images in the testset: 50\n",
      "Model models/segmentation_model_UNet_train100%_channels3_4_5_6_7_8_9.pth loaded successfully.\n",
      "Average Loss on Test Set: 0.5919\n",
      "Precision: 0.4435\n",
      "Recall: 0.7516\n",
      "F1 Score: 0.5578\n",
      "Dice Score: 0.5578\n",
      "IoU: 0.3868\n"
     ]
    }
   ],
   "source": [
    "channels = [3, 4, 5, 6, 7, 8, 9]\n",
    "pth_model = 'models/segmentation_model_UNet_train100%_channels3_4_5_6_7_8_9.pth'\n",
    "model_name = 'UNet'\n",
    "\n",
    "model, test_dataloader, criterion, device = run_model(channels, pth_model, model_name)\n",
    "evaluate_model(model, test_dataloader, criterion, device)"
   ]
  }
 ],
 "metadata": {
  "kernelspec": {
   "display_name": ".venv",
   "language": "python",
   "name": "python3"
  },
  "language_info": {
   "codemirror_mode": {
    "name": "ipython",
    "version": 3
   },
   "file_extension": ".py",
   "mimetype": "text/x-python",
   "name": "python",
   "nbconvert_exporter": "python",
   "pygments_lexer": "ipython3",
   "version": "3.9.18"
  }
 },
 "nbformat": 4,
 "nbformat_minor": 4
}
