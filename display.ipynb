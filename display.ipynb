{
 "cells": [
  {
   "cell_type": "code",
   "execution_count": 74,
   "metadata": {},
   "outputs": [],
   "source": [
    "import os\n",
    "import numpy as np\n",
    "import matplotlib.pyplot as plt\n",
    "import time\n",
    "import torch\n",
    "import torch.nn as nn\n",
    "import torch.nn.functional as F\n",
    "import torch.optim as optim\n",
    "import torchvision\n",
    "import torchvision.transforms as transforms\n",
    "import random\n",
    "from pathlib import Path\n",
    "from dataloader import get_dataloader, walk_through_dir\n",
    "from models import SegmentationModel"
   ]
  },
  {
   "cell_type": "code",
   "execution_count": 75,
   "metadata": {},
   "outputs": [
    {
     "name": "stdout",
     "output_type": "stream",
     "text": [
      "There are 2 directories and 2 images in '/zhome/70/5/14854/nobackup/deeplearningf24/forcebiology/data'.\n",
      "There are 7 directories and 0 images in '/zhome/70/5/14854/nobackup/deeplearningf24/forcebiology/data/brightfield'.\n",
      "There are 0 directories and 2475 images in '/zhome/70/5/14854/nobackup/deeplearningf24/forcebiology/data/brightfield/Alexa488_Fibroblasts_well5_225locations'.\n",
      "There are 0 directories and 2475 images in '/zhome/70/5/14854/nobackup/deeplearningf24/forcebiology/data/brightfield/Alexa488_Fibroblasts_well4_225locations'.\n",
      "There are 0 directories and 1485 images in '/zhome/70/5/14854/nobackup/deeplearningf24/forcebiology/data/brightfield/Alexa488_Fibroblasts_well6_135locations'.\n",
      "There are 0 directories and 2156 images in '/zhome/70/5/14854/nobackup/deeplearningf24/forcebiology/data/brightfield/Alexa488_Fibroblasts_well3_200locations'.\n",
      "There are 0 directories and 1485 images in '/zhome/70/5/14854/nobackup/deeplearningf24/forcebiology/data/brightfield/Alexa488_Fibroblasts_well7_135locations'.\n",
      "There are 0 directories and 2156 images in '/zhome/70/5/14854/nobackup/deeplearningf24/forcebiology/data/brightfield/Alexa488_Fibroblasts_well2_200locations'.\n",
      "There are 0 directories and 561 images in '/zhome/70/5/14854/nobackup/deeplearningf24/forcebiology/data/brightfield/Alexa488_Fibroblasts_well1_50locations'.\n",
      "There are 0 directories and 1163 images in '/zhome/70/5/14854/nobackup/deeplearningf24/forcebiology/data/masks'.\n"
     ]
    }
   ],
   "source": [
    "data_path = \"/zhome/70/5/14854/nobackup/deeplearningf24/forcebiology/data/\"\n",
    "walk_through_dir(Path(data_path))"
   ]
  },
  {
   "cell_type": "code",
   "execution_count": 76,
   "metadata": {},
   "outputs": [],
   "source": [
    "image_dirs = [data_path + 'brightfield/Alexa488_Fibroblasts_well1_50locations',\n",
    "              data_path + 'brightfield/Alexa488_Fibroblasts_well2_200locations',\n",
    "              data_path + 'brightfield/Alexa488_Fibroblasts_well3_200locations',\n",
    "              data_path + 'brightfield/Alexa488_Fibroblasts_well4_225locations',\n",
    "              data_path + 'brightfield/Alexa488_Fibroblasts_well5_225locations',\n",
    "              data_path + 'brightfield/Alexa488_Fibroblasts_well6_135locations',\n",
    "              data_path + 'brightfield/Alexa488_Fibroblasts_well7_135locations']\n",
    "mask_dir = data_path + 'masks'"
   ]
  },
  {
   "cell_type": "code",
   "execution_count": 77,
   "metadata": {},
   "outputs": [],
   "source": [
    "def set_seed(seed=111):\n",
    "    torch.manual_seed(seed)\n",
    "    if torch.cuda.is_available():\n",
    "        torch.cuda.manual_seed(seed)\n",
    "        torch.cuda.manual_seed_all(seed)  # For multi-GPU\n",
    "    random.seed(seed)\n",
    "    np.random.seed(seed)"
   ]
  },
  {
   "cell_type": "code",
   "execution_count": 78,
   "metadata": {},
   "outputs": [
    {
     "name": "stdout",
     "output_type": "stream",
     "text": [
      "Number of images in the trainset: 889\n",
      "Number of images in the valset: 223\n",
      "Number of images in the testset: 50\n"
     ]
    }
   ],
   "source": [
    "data_transform = transforms.Compose([\n",
    "    transforms.Resize((128, 128)),\n",
    "    transforms.ToTensor()\n",
    "])\n",
    "mask_transform = data_transform\n",
    "\n",
    "train_dataloader, val_dataloader, test_dataloader = get_dataloader(\n",
    "    image_dirs, \n",
    "    mask_dir, \n",
    "    data_transform, \n",
    "    mask_transform, \n",
    "    display_sample=False, \n",
    "    train_percentage=1.0, \n",
    "    channel_indices=None\n",
    ")"
   ]
  },
  {
   "cell_type": "code",
   "execution_count": 79,
   "metadata": {},
   "outputs": [],
   "source": [
    "def run_model(channels, pth_model, model_name):\n",
    "    # Get the dataloaders with optional channel selection\n",
    "    train_dataloader, val_dataloader, test_dataloader = get_dataloader(\n",
    "        image_dirs, \n",
    "        mask_dir, \n",
    "        data_transform, \n",
    "        mask_transform, \n",
    "        display_sample=False, \n",
    "        train_percentage=1.0, \n",
    "        channel_indices=channels\n",
    "    )\n",
    "\n",
    "    # Initialize the device\n",
    "    # device = torch.device(\"cuda\" if torch.cuda.is_available() else \"cpu\")\n",
    "    device = \"cpu\"\n",
    "    criterion = nn.BCELoss()\n",
    "    current_directory = os.getcwd()\n",
    "    model_save_path = os.path.join(current_directory, pth_model)\n",
    "\n",
    "    # Load the model\n",
    "    if model_name == \"Simple\":\n",
    "        model = SimpleSegmentationModel().to(device)\n",
    "    elif model_name == \"UNet\":\n",
    "        model = SegmentationModel(channels=len(channels)).to(device)\n",
    "    elif model_name == \"Pretrained\":\n",
    "        model = pretrained_UNet().to(device)\n",
    "    \n",
    "    model.load_state_dict(torch.load(model_save_path, map_location=torch.device('cpu'), weights_only=True))\n",
    "    print(f\"Model {pth_model} loaded successfully.\")\n",
    "\n",
    "    return model, test_dataloader, criterion, device"
   ]
  },
  {
   "cell_type": "code",
   "execution_count": 80,
   "metadata": {},
   "outputs": [
    {
     "name": "stdout",
     "output_type": "stream",
     "text": [
      "Using device: cuda\n"
     ]
    }
   ],
   "source": [
    "device = torch.device(\"cuda\" if torch.cuda.is_available() else \"cpu\")\n",
    "print(f\"Using device: {device}\")\n",
    "\n",
    "set_seed()"
   ]
  },
  {
   "cell_type": "markdown",
   "metadata": {},
   "source": [
    "## Evaluation"
   ]
  },
  {
   "cell_type": "code",
   "execution_count": 98,
   "metadata": {},
   "outputs": [
    {
     "name": "stdout",
     "output_type": "stream",
     "text": [
      "Number of images in the trainset: 889\n",
      "Number of images in the valset: 223\n",
      "Number of images in the testset: 50\n",
      "Model /zhome/44/2/213836/02456/multiview-seg-dtu/models/segmentation_model_UNet_train100%_channels0_1_2_3_4_5_6_7_8_9_10.pth loaded successfully.\n"
     ]
    }
   ],
   "source": [
    "current_directory = os.getcwd()\n",
    "model_save_path = os.path.join(current_directory, \"models/segmentation_model_UNet_train100%_channels0_1_2_3_4_5_6_7_8_9_10.pth\")\n",
    "criterion = nn.BCELoss()\n",
    "\n",
    "model, test_dataloader, criterion, device = run_model([0, 1, 2, 3, 4, 5, 6, 7, 8, 9, 10], model_save_path, \"UNet\")"
   ]
  },
  {
   "cell_type": "code",
   "execution_count": 105,
   "metadata": {},
   "outputs": [
    {
     "name": "stdout",
     "output_type": "stream",
     "text": [
      "torch.Size([1, 128, 128])\n"
     ]
    },
    {
     "data": {
      "image/png": "[encoded data removed]",
      "text/plain": [
       "<Figure size 1500x500 with 2 Axes>"
      ]
     },
     "metadata": {},
     "output_type": "display_data"
    }
   ],
   "source": [
    "# Sample evaluation\n",
    "batch = next(iter(test_dataloader))  # Get one batch\n",
    "images, masks = batch\n",
    "random_idx = random.randint(0, images.size(0) - 1)  # Random index within batch size\n",
    "random_images = images.to(device)\n",
    "random_mask = masks[random_idx].to(device) # Select only one random sample to plot\n",
    "\n",
    "model.eval()\n",
    "\n",
    "with torch.no_grad():  # No gradient computation needed for inference\n",
    "    output = model(random_images)[random_idx]  # Forward pass and select only random sample to plot\n",
    "\n",
    "print(output.shape)\n",
    "binary_output = (output > torch.quantile(output, 0.8)).float() # Make binary segmentation\n",
    "\n",
    "# Plot the input image, ground truth mask, and predicted mask\n",
    "fig, axes = plt.subplots(1, 2, figsize=(15, 5))\n",
    "axes[0].imshow(random_mask.cpu().squeeze().numpy(), cmap=\"gray\")\n",
    "axes[0].axis(\"off\")\n",
    "axes[0].set_title(\"Ground Truth Mask\")\n",
    "\n",
    "axes[1].imshow(binary_output.cpu().squeeze().numpy(), cmap=\"gray\") # Change to binary_output if want to display binary mask\n",
    "axes[1].axis(\"off\")\n",
    "axes[1].set_title(\"Model Output (Predicted Mask)\")\n",
    "\n",
    "plt.show()"
   ]
  }
 ],
 "metadata": {
  "kernelspec": {
   "display_name": "Python 3 (ipykernel)",
   "language": "python",
   "name": "python3"
  },
  "language_info": {
   "codemirror_mode": {
    "name": "ipython",
    "version": 3
   },
   "file_extension": ".py",
   "mimetype": "text/x-python",
   "name": "python",
   "nbconvert_exporter": "python",
   "pygments_lexer": "ipython3",
   "version": "3.9.18"
  }
 },
 "nbformat": 4,
 "nbformat_minor": 4
}
